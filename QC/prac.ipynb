{
 "cells": [
  {
   "cell_type": "code",
   "execution_count": 17,
   "metadata": {},
   "outputs": [],
   "source": [
    "import math as mt\n",
    "\n",
    "from scipy.constants import * "
   ]
  },
  {
   "cell_type": "code",
   "execution_count": 19,
   "metadata": {},
   "outputs": [
    {
     "name": "stdout",
     "output_type": "stream",
     "text": [
      "9.1093837015e-31\n",
      "6.62607015e-34\n",
      "299792458.0\n",
      "------------------\n",
      "1.213155119341546e-12\n",
      "------------------\n",
      "5.4580705178825905e-14\n"
     ]
    }
   ],
   "source": [
    "print(m_e)\n",
    "print(h)\n",
    "print(c)\n",
    "print('------------------')\n",
    "print(h/(2*m_e*c))\n",
    "print('------------------')\n",
    "print(2*(m_e*c**2)/3)"
   ]
  },
  {
   "cell_type": "code",
   "execution_count": 18,
   "metadata": {},
   "outputs": [
    {
     "name": "stdout",
     "output_type": "stream",
     "text": [
      "1.380649e-23\n",
      "8.358339969155517e-06\n",
      "2.8827743975250662e-05\n",
      "6.157879038500289e-05\n"
     ]
    }
   ],
   "source": [
    "m = 2.008269e-26\n",
    "L = 1e-8 \n",
    "print(k)\n",
    "\n",
    "print(6.242e18 * (7**2*pi**2*hbar**2)/(2*m*L**2))\n",
    "print(6.242e18 * (13**2*pi**2*hbar**2)/(2*m*L**2))\n",
    "print(6.242e18 * (19**2*pi**2*hbar**2)/(2*m*L**2))"
   ]
  },
  {
   "cell_type": "code",
   "execution_count": 19,
   "metadata": {},
   "outputs": [
    {
     "name": "stdout",
     "output_type": "stream",
     "text": [
      "3.632560221199487e-11\n"
     ]
    }
   ],
   "source": [
    "print(h/mt.sqrt(m*k*1200))"
   ]
  },
  {
   "cell_type": "code",
   "execution_count": 20,
   "metadata": {},
   "outputs": [
    {
     "name": "stdout",
     "output_type": "stream",
     "text": [
      "25758547952.200695\n"
     ]
    }
   ],
   "source": [
    "print(\n",
    "    (1.175 * 10)/(4*pi * 3.63e-11)\n",
    ")"
   ]
  }
 ],
 "metadata": {
  "interpreter": {
   "hash": "916dbcbb3f70747c44a77c7bcd40155683ae19c65e1c03b4aa3499c5328201f1"
  },
  "kernelspec": {
   "display_name": "Python 3.8.10 64-bit",
   "language": "python",
   "name": "python3"
  },
  "language_info": {
   "codemirror_mode": {
    "name": "ipython",
    "version": 3
   },
   "file_extension": ".py",
   "mimetype": "text/x-python",
   "name": "python",
   "nbconvert_exporter": "python",
   "pygments_lexer": "ipython3",
   "version": "3.8.10"
  },
  "orig_nbformat": 4
 },
 "nbformat": 4,
 "nbformat_minor": 2
}
