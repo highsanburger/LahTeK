{
 "cells": [
  {
   "cell_type": "code",
   "execution_count": 31,
   "metadata": {},
   "outputs": [],
   "source": [
    "import numpy as np\n",
    "import matplotlib.pyplot as plt"
   ]
  },
  {
   "cell_type": "markdown",
   "metadata": {},
   "source": [
    "# Ch - 1 Excercise "
   ]
  },
  {
   "cell_type": "code",
   "execution_count": 29,
   "metadata": {},
   "outputs": [
    {
     "name": "stdout",
     "output_type": "stream",
     "text": [
      "Probability of 1 = 0.08\n",
      "Probability of 2 = 0.12\n",
      "Probability of 3 = 0.2\n",
      "Probability of 4 = 0.12\n",
      "Probability of 5 = 0.12\n",
      "Probability of 6 = 0.12\n",
      "Probability of 7 = 0.04\n",
      "Probability of 8 = 0.08\n",
      "Probability of 9 = 0.12\n",
      "----------------------------------------------------------------\n",
      "Most Probable digit -  3\n",
      "Median digit -  7\n",
      "Average =  4.72\n",
      "----------------------------------------------------------------\n",
      "Standard Deviation =  2.4741867350707385\n"
     ]
    }
   ],
   "source": [
    "#P 1.10) First 25 digits of Pi\n",
    "pi = list()\n",
    "for i in '3141592653589793238462643':\n",
    "    t = int(i)\n",
    "    pi.append(t)\n",
    "\n",
    "# a) P(1-10)\n",
    "pl = list()\n",
    "for i in range(1,10):\n",
    "    x = pi.count(i)\n",
    "    px = x/25\n",
    "    print(\"Probability of\", i, '=',px )\n",
    "    pl.append(px)\n",
    "print('----------------------------------------------------------------')\n",
    "\n",
    "# b) \n",
    "print(\"Most Probable digit - \", 3)\n",
    "print(\"Median digit - \", pi[13])\n",
    "s = 0\n",
    "for i in pi:\n",
    "    t = int(i)\n",
    "    s += t \n",
    "avg = s/25\n",
    "print(\"Average = \", avg)\n",
    "print(\"----------------------------------------------------------------\")\n",
    "\n",
    "# c) Std dev\n",
    "s = 0\n",
    "for i in pi:\n",
    "    t = int(i)**2\n",
    "    s += t\n",
    "avg2 = s/25\n",
    "print(\"Standard Deviation = \",(avg2 - avg**2)**0.5)\n",
    "\n",
    "\n"
   ]
  },
  {
   "cell_type": "markdown",
   "metadata": {},
   "source": []
  },
  {
   "cell_type": "code",
   "execution_count": 69,
   "metadata": {},
   "outputs": [
    {
     "name": "stderr",
     "output_type": "stream",
     "text": [
      "<ipython-input-69-2f34b560cc0e>:3: RuntimeWarning: divide by zero encountered in true_divide\n",
      "  rho = 1/(np.pi*(1-x**2)**(1/2))\n"
     ]
    },
    {
     "data": {
      "image/png": "[encoded data removed]",
      "text/plain": [
       "<Figure size 432x288 with 1 Axes>"
      ]
     },
     "metadata": {
      "needs_background": "light"
     },
     "output_type": "display_data"
    }
   ],
   "source": [
    "#P 1.13) \n",
    "x = np.linspace(-1,1,10000)\n",
    "rho = 1/(np.pi*(1-x**2)**(1/2))\n",
    "plt.plot(x,rho)\n",
    "t = np.arange(0,10,0.01)\n",
    "xt = np.cos(t)\n",
    "plt.hist(xt,bins=100)\n",
    "plt.show()\n"
   ]
  },
  {
   "cell_type": "code",
   "execution_count": 9,
   "metadata": {},
   "outputs": [
    {
     "name": "stdout",
     "output_type": "stream",
     "text": [
      "5.000000000000542e-05\n"
     ]
    }
   ],
   "source": [
    "s = 0 \n",
    "n = int(input())\n",
    "for i in range(n):\n",
    "    if i%2 == 1:\n",
    "        t = 1/(n*n)\n",
    "        s = s + t\n",
    "print(s)"
   ]
  },
  {
   "cell_type": "code",
   "execution_count": 2,
   "metadata": {},
   "outputs": [
    {
     "data": {
      "text/plain": [
       "1"
      ]
     },
     "execution_count": 2,
     "metadata": {},
     "output_type": "execute_result"
    }
   ],
   "source": [
    "99%2\n"
   ]
  },
  {
   "cell_type": "code",
   "execution_count": null,
   "metadata": {},
   "outputs": [],
   "source": []
  }
 ],
 "metadata": {
  "interpreter": {
   "hash": "75384fd0ca3c2952361a90566c13d130cab84e43a6c89416ac57c7dceece1b2d"
  },
  "kernelspec": {
   "display_name": "Python 3.8.8 64-bit ('base': conda)",
   "language": "python",
   "name": "python3"
  },
  "language_info": {
   "codemirror_mode": {
    "name": "ipython",
    "version": 3
   },
   "file_extension": ".py",
   "mimetype": "text/x-python",
   "name": "python",
   "nbconvert_exporter": "python",
   "pygments_lexer": "ipython3",
   "version": "3.8.8"
  },
  "orig_nbformat": 4
 },
 "nbformat": 4,
 "nbformat_minor": 2
}
